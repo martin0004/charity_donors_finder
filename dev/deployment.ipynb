{
 "cells": [
  {
   "cell_type": "markdown",
   "id": "2a0b526f-ed18-4a57-9b39-04e718ea5b91",
   "metadata": {},
   "source": [
    "# Deployment"
   ]
  },
  {
   "cell_type": "markdown",
   "id": "6280a108-8205-4767-8cda-b4ee6d43c7a9",
   "metadata": {},
   "source": [
    "# Imports / Global Variables"
   ]
  },
  {
   "cell_type": "code",
   "execution_count": 11,
   "id": "44060b7a-98d8-4257-a8b1-951f122c1e70",
   "metadata": {},
   "outputs": [],
   "source": [
    "# Imports\n",
    "\n",
    "import sys  \n",
    "sys.path.insert(0, \"../src\")\n",
    "from find_donors import *                     # Module containing donor_finder\n",
    "\n",
    "# Print parameters\n",
    "\n",
    "pd.set_option('expand_frame_repr', False)     # print(df) will show all DataFrame columns.\n",
    "import plotly.io as pio                       # Need this so plotly images in a Jupyter notebook show up in GitHub.\n",
    "pio.renderers.default=\"plotly_mimetype\"       # \"   \"\n",
    "\n",
    "# Global variables\n",
    "\n",
    "CENSUS_FILE = \"../data/census_cleaned.csv\"\n",
    "TEMPLATE_FILE = \"../instructions/template.csv\"\n",
    "FEATURES_FILE = \"../instructions/features.csv\""
   ]
  },
  {
   "cell_type": "markdown",
   "id": "abd58222-07b3-4bd7-b85d-8b4a95108cb3",
   "metadata": {},
   "source": [
    "# Create Template File"
   ]
  },
  {
   "cell_type": "code",
   "execution_count": 9,
   "id": "c3633cb5-9f07-401a-b18e-67b39da26d65",
   "metadata": {},
   "outputs": [],
   "source": [
    "# Create template file\n",
    "\n",
    "# Load cleaned census file\n",
    "df = pd.read_csv(CENSUS_FILE)\n",
    "\n",
    "# Drop \"income\" column\n",
    "df = df.drop(\"income\", axis=1)\n",
    "\n",
    "# Select 5 random rows\n",
    "df = df.sample(5)\n",
    "\n",
    "# Create template file\n",
    "df.to_csv(TEMPLATE_FILE, index=False)\n"
   ]
  },
  {
   "cell_type": "markdown",
   "id": "5a5e6baf-d07d-4201-9e5c-f6b41bf9359d",
   "metadata": {},
   "source": [
    "# Create List of Features"
   ]
  },
  {
   "cell_type": "code",
   "execution_count": 19,
   "id": "b0300c2c-0ed9-4e8b-b8c8-435f7378f262",
   "metadata": {},
   "outputs": [],
   "source": [
    "# File created by going back into the \"data_cleaning.ipynb\" notebook\n",
    "# and using the data from there.\n"
   ]
  }
 ],
 "metadata": {
  "kernelspec": {
   "display_name": "Python 3 (ipykernel)",
   "language": "python",
   "name": "python3"
  },
  "language_info": {
   "codemirror_mode": {
    "name": "ipython",
    "version": 3
   },
   "file_extension": ".py",
   "mimetype": "text/x-python",
   "name": "python",
   "nbconvert_exporter": "python",
   "pygments_lexer": "ipython3",
   "version": "3.8.12"
  }
 },
 "nbformat": 4,
 "nbformat_minor": 5
}
